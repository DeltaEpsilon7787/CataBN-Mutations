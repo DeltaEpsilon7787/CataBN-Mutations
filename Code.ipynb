{
 "cells": [
  {
   "cell_type": "code",
   "execution_count": 74,
   "metadata": {},
   "outputs": [],
   "source": [
    "from collections import defaultdict\n",
    "from glob import glob\n",
    "from itertools import chain\n",
    "from json import load\n",
    "from operator import itemgetter\n",
    "\n",
    "from graphviz import Graph, Digraph"
   ]
  },
  {
   "cell_type": "code",
   "execution_count": 75,
   "metadata": {},
   "outputs": [],
   "source": [
    "ENG = 'dot'"
   ]
  },
  {
   "cell_type": "code",
   "execution_count": 76,
   "metadata": {},
   "outputs": [],
   "source": [
    "A = \"Q:/Downloads/bn/current/data/json/mutations/mutations.json\"\n",
    "\n",
    "with open(A) as F:\n",
    "    data = load(F)\n",
    "\n",
    "name_lookup = {\n",
    "    datum['id']: datum['name']\n",
    "    for datum in data\n",
    "}\n",
    "\n",
    "data = [\n",
    "    {\n",
    "        key: [\n",
    "            name_lookup[id_]['str']\n",
    "            for id_ in value\n",
    "            if id_ not in \"ROBUST|PAINREC2|PAINREC3\".split(\"|\")\n",
    "        ] if key in ('changes_to', 'leads_to', 'prereqs', 'prereqs2', 'cancels', 'threshreq') else value\n",
    "        for key, value in datum.items()\n",
    "    }\n",
    "    for datum in data\n",
    "]\n",
    "\n",
    "categories = {*chain.from_iterable(\n",
    "    frozenset(datum.get('category', {}))\n",
    "    for datum in data\n",
    ")}"
   ]
  },
  {
   "cell_type": "code",
   "execution_count": 77,
   "metadata": {},
   "outputs": [],
   "source": [
    "data_lookup = {\n",
    "    (\n",
    "        datum['name']['str']\n",
    "        if isinstance(datum['name'], dict)\n",
    "        else datum['name']\n",
    "    ): datum\n",
    "    for datum in data\n",
    "}"
   ]
  },
  {
   "cell_type": "code",
   "execution_count": 78,
   "metadata": {},
   "outputs": [],
   "source": [
    "def recursive_solver_1(mut):\n",
    "    if 'depth' in mut:\n",
    "        return mut['depth']\n",
    "    depths = [\n",
    "        recursive_solver_1(data_lookup[sub_mut])\n",
    "        for sub_mut in mut.get('changes_to', []) + mut.get('leads_to', [])\n",
    "        # if not print(sub_mut)\n",
    "    ]\n",
    "    mut['depth'] = depths and 1 + max(depths) or 0\n",
    "    return mut['depth']\n",
    "\n",
    "for datum in data:\n",
    "    recursive_solver_1(datum)\n",
    "\n",
    "data.sort(key=itemgetter('depth'), reverse=True)"
   ]
  },
  {
   "cell_type": "code",
   "execution_count": 79,
   "metadata": {},
   "outputs": [],
   "source": [
    "def is_not_valid(datum):\n",
    "    return mut.get('profession', False) or not mut.get('player_display', True) or mut.get('debug', False) or mut.get('threshold', False)"
   ]
  },
  {
   "cell_type": "code",
   "execution_count": 80,
   "metadata": {},
   "outputs": [],
   "source": [
    "main_graph = Digraph('Mutations',\n",
    "                     format='svg',\n",
    "                     engine=ENG,\n",
    "                     graph_attr={\n",
    "                         'concentrate': 'false',\n",
    "                     })"
   ]
  },
  {
   "cell_type": "code",
   "execution_count": 81,
   "metadata": {},
   "outputs": [],
   "source": [
    "mutation_colors = {\n",
    "    'LIZARD': 'khaki',\n",
    "    'BIRD': 'deepskyblue',\n",
    "    'FISH': 'aquamarine',\n",
    "    'BEAST': 'tomato',\n",
    "    'FELINE': 'sandybrown',\n",
    "    'LUPINE': '#A9A9A9',\n",
    "    'URSINE': 'brown',\n",
    "    'CATTLE': 'peru',\n",
    "    'INSECT': 'yellow',\n",
    "    'PLANT': 'forestgreen',\n",
    "    'SLIME': 'greenyellow',\n",
    "    'TROGLOBITE': 'slategray',\n",
    "    'CEPHALOPOD': 'purple',\n",
    "    'SPIDER': 'orange',\n",
    "    'RAT': 'grey',\n",
    "    'MEDICAL': 'red',\n",
    "    'ALPHA': 'skyblue',\n",
    "    'ELFA': '#90EE90',\n",
    "    'CHIMERA': 'indianred',\n",
    "    'RAPTOR': 'green',\n",
    "    'MOUSE': 'lightgrey',\n",
    "    'MYCUS': 'violet',\n",
    "    'MARLOSS': 'cyan',\n",
    "    'NEUTRAL': '#FFFFFF'\n",
    "}\n",
    "\n",
    "mutation_category_colors = {}\n",
    "\n",
    "for mut in data:\n",
    "    cats = mut.get('category', [])\n",
    "    name = isinstance(mut['name'], dict) and mut['name']['str'] or mut['name']\n",
    "    if not cats:\n",
    "        mutation_category_colors[name] = mutation_colors['NEUTRAL']\n",
    "    else:\n",
    "        mutation_category_colors[name] = ':'.join(mutation_colors[cat] for cat in sorted(cats))"
   ]
  },
  {
   "cell_type": "code",
   "execution_count": 82,
   "metadata": {},
   "outputs": [],
   "source": [
    "category_clusters = {\n",
    "    cat: Digraph(name=f'{cat}',\n",
    "                 engine=ENG,\n",
    "                 graph_attr={\n",
    "                     'label': cat\n",
    "                 },\n",
    "                 node_attr={\n",
    "                     'shape': 'rectangle',\n",
    "                 })\n",
    "    for cat in categories | {'NEUTRAL'}\n",
    "}\n",
    "\n",
    "for mut in data:\n",
    "    this_name = isinstance(mut['name'], dict) and mut['name']['str'] or mut['name']\n",
    "    if is_not_valid(mut):\n",
    "        continue\n",
    "    \n",
    "    for cat in mut.get('category', ['NEUTRAL']):\n",
    "        points = mut.get('points', 0)\n",
    "        category_clusters[cat].node(this_name,\n",
    "                                    shape='rectangle',\n",
    "                                    style=','.join(filter(None, \n",
    "                                                          ['striped',\n",
    "                                                           'dotted' if points < 0 else None])),\n",
    "                                    fontsize='28' if mut.get('threshreq', []) else '14',\n",
    "                                    fillcolor=mutation_category_colors[this_name])"
   ]
  },
  {
   "cell_type": "code",
   "execution_count": null,
   "metadata": {},
   "outputs": [],
   "source": []
  },
  {
   "cell_type": "code",
   "execution_count": 83,
   "metadata": {},
   "outputs": [],
   "source": [
    "for mut in data:\n",
    "    this_name = isinstance(mut['name'], dict) and mut['name']['str'] or mut['name']\n",
    "    if is_not_valid(mut):\n",
    "        continue\n",
    "\n",
    "    for name in mut.get('prereqs2', []):\n",
    "        main_graph.edge(name, this_name, style='dotted', color='violet')\n",
    "\n",
    "    for name in mut.get('changes_to', []):\n",
    "        main_graph.edge(this_name, name, arrowhead='normal', color='black')\n",
    "        # this_name in data_lookup[name].get('prereqs', []) and data_lookup[name]['prereqs'].remove(this_name)\n",
    "        # this_name in data_lookup[name].get('prereqs2', []) and data_lookup[name]['prereqs2'].remove(this_name)\n",
    "\n",
    "    for name in mut.get('leads_to', []):\n",
    "        main_graph.edge(this_name, name, arrowhead='box', color='green')\n",
    "        # this_name in data_lookup[name].get('prereqs', []) and data_lookup[name]['prereqs'].remove(this_name)\n",
    "        # this_name in data_lookup[name].get('prereqs2', []) and data_lookup[name]['prereqs2'].remove(this_name)\n",
    "\n",
    "    for name in mut.get('cancels', []):\n",
    "        main_graph.edge(this_name, name, dir='none', color='red')\n",
    "        this_name in data_lookup[name].get('cancels', []) and data_lookup[name]['cancels'].remove(this_name)"
   ]
  },
  {
   "cell_type": "code",
   "execution_count": 84,
   "metadata": {},
   "outputs": [],
   "source": [
    "for cluster in category_clusters.values():\n",
    "    main_graph.subgraph(cluster)"
   ]
  },
  {
   "cell_type": "code",
   "execution_count": 85,
   "metadata": {},
   "outputs": [
    {
     "data": {
      "text/plain": [
       "'Mutations.gv.png'"
      ]
     },
     "execution_count": 85,
     "metadata": {},
     "output_type": "execute_result"
    }
   ],
   "source": [
    "main_graph.render()\n",
    "main_graph.format = 'png'\n",
    "main_graph.render()"
   ]
  },
  {
   "cell_type": "code",
   "execution_count": 86,
   "metadata": {},
   "outputs": [
    {
     "data": {
      "text/plain": [
       "'Legend.gv.png'"
      ]
     },
     "execution_count": 86,
     "metadata": {},
     "output_type": "execute_result"
    }
   ],
   "source": [
    "legend = Digraph(name='Legend', format='svg', engine='circo', node_attr={'shape': 'rectangle', 'style': 'striped'})\n",
    "\n",
    "\n",
    "legend.node('Positive Regular Mutation', fontsize='14', fillcolor='#FFFFFF')\n",
    "legend.node('Negative Regular Mutation', style='striped,dotted', fontsize='14', fillcolor='#FFFFFF')\n",
    "legend.node('Positive Post-Threshold Mutation', fontsize='28')\n",
    "legend.node('Positive Slime Post-Threshold Mutation', fontsize='28', fillcolor=mutation_colors['SLIME'])\n",
    "legend.node('Regular Mutation of Slime and Chimera', fontsize='14', fillcolor=f'{mutation_colors[\"SLIME\"]}:{mutation_colors[\"CHIMERA\"]}')\n",
    "\n",
    "legend.edge('Negative Regular Mutation', 'Positive Regular Mutation', arrowhead='normal', color='black', label='Changes to')\n",
    "legend.edge('Positive Regular Mutation', 'Positive Post-Threshold Mutation', arrowhead='box', color='green', label='Leads to')\n",
    "legend.edge('Positive Post-Threshold Mutation', 'Positive Slime Post-Threshold Mutation', style='dotted', color='blue', label='Requires')\n",
    "legend.edge('Positive Regular Mutation', 'Positive Slime Post-Threshold Mutation', style='dotted', color='violet', label='Additional Requirement')\n",
    "legend.edge('Negative Regular Mutation', 'Positive Slime Post-Threshold Mutation', dir='none', color='red', label='Cancels')\n",
    "\n",
    "legend.node('Category Legend', shape='plaintext')\n",
    "for cat, color in mutation_colors.items():\n",
    "    legend.node(cat, fillcolor=color, style='filled', shape='diamond')\n",
    "    legend.edge('Category Legend', cat, arrowhead='none', style='dashed')\n",
    "    \n",
    "legend.render()\n",
    "legend.format = 'png'\n",
    "legend.render()"
   ]
  },
  {
   "cell_type": "code",
   "execution_count": null,
   "metadata": {},
   "outputs": [],
   "source": []
  }
 ],
 "metadata": {
  "kernelspec": {
   "display_name": "Python 3",
   "language": "python",
   "name": "python3"
  },
  "language_info": {
   "codemirror_mode": {
    "name": "ipython",
    "version": 3
   },
   "file_extension": ".py",
   "mimetype": "text/x-python",
   "name": "python",
   "nbconvert_exporter": "python",
   "pygments_lexer": "ipython3",
   "version": "3.8.5"
  }
 },
 "nbformat": 4,
 "nbformat_minor": 4
}
